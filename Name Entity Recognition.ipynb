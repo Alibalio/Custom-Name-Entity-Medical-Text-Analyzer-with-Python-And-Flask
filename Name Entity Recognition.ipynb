{
 "cells": [
  {
   "cell_type": "code",
   "execution_count": 2,
   "id": "afe39f40-2c3c-45c9-8118-7649dfeb4c3d",
   "metadata": {},
   "outputs": [],
   "source": [
    "import spacy"
   ]
  },
  {
   "cell_type": "code",
   "execution_count": 2,
   "id": "9537bde8",
   "metadata": {
    "scrolled": true
   },
   "outputs": [
    {
     "name": "stdout",
     "output_type": "stream",
     "text": [
      "Collecting spacy\n",
      "  Downloading spacy-3.8.3-cp311-cp311-macosx_11_0_arm64.whl.metadata (27 kB)\n",
      "Collecting spacy-legacy<3.1.0,>=3.0.11 (from spacy)\n",
      "  Downloading spacy_legacy-3.0.12-py2.py3-none-any.whl.metadata (2.8 kB)\n",
      "Collecting spacy-loggers<2.0.0,>=1.0.0 (from spacy)\n",
      "  Downloading spacy_loggers-1.0.5-py3-none-any.whl.metadata (23 kB)\n",
      "Collecting murmurhash<1.1.0,>=0.28.0 (from spacy)\n",
      "  Downloading murmurhash-1.0.11-cp311-cp311-macosx_11_0_arm64.whl.metadata (2.0 kB)\n",
      "Collecting cymem<2.1.0,>=2.0.2 (from spacy)\n",
      "  Downloading cymem-2.0.10-cp311-cp311-macosx_11_0_arm64.whl.metadata (8.4 kB)\n",
      "Collecting preshed<3.1.0,>=3.0.2 (from spacy)\n",
      "  Downloading preshed-3.0.9-cp311-cp311-macosx_11_0_arm64.whl.metadata (2.2 kB)\n",
      "Collecting thinc<8.4.0,>=8.3.0 (from spacy)\n",
      "  Downloading thinc-8.3.3-cp311-cp311-macosx_11_0_arm64.whl.metadata (15 kB)\n",
      "Collecting wasabi<1.2.0,>=0.9.1 (from spacy)\n",
      "  Downloading wasabi-1.1.3-py3-none-any.whl.metadata (28 kB)\n",
      "Collecting srsly<3.0.0,>=2.4.3 (from spacy)\n",
      "  Downloading srsly-2.5.0-cp311-cp311-macosx_11_0_arm64.whl.metadata (19 kB)\n",
      "Collecting catalogue<2.1.0,>=2.0.6 (from spacy)\n",
      "  Downloading catalogue-2.0.10-py3-none-any.whl.metadata (14 kB)\n",
      "Collecting weasel<0.5.0,>=0.1.0 (from spacy)\n",
      "  Downloading weasel-0.4.1-py3-none-any.whl.metadata (4.6 kB)\n",
      "Requirement already satisfied: typer<1.0.0,>=0.3.0 in /opt/anaconda3/lib/python3.11/site-packages (from spacy) (0.9.0)\n",
      "Requirement already satisfied: tqdm<5.0.0,>=4.38.0 in /opt/anaconda3/lib/python3.11/site-packages (from spacy) (4.65.0)\n",
      "Requirement already satisfied: numpy>=1.19.0 in /opt/anaconda3/lib/python3.11/site-packages (from spacy) (1.26.4)\n",
      "Requirement already satisfied: requests<3.0.0,>=2.13.0 in /opt/anaconda3/lib/python3.11/site-packages (from spacy) (2.32.3)\n",
      "Requirement already satisfied: pydantic!=1.8,!=1.8.1,<3.0.0,>=1.7.4 in /opt/anaconda3/lib/python3.11/site-packages (from spacy) (2.10.3)\n",
      "Requirement already satisfied: jinja2 in /opt/anaconda3/lib/python3.11/site-packages (from spacy) (3.1.3)\n",
      "Requirement already satisfied: setuptools in /opt/anaconda3/lib/python3.11/site-packages (from spacy) (68.2.2)\n",
      "Requirement already satisfied: packaging>=20.0 in /opt/anaconda3/lib/python3.11/site-packages (from spacy) (23.1)\n",
      "Collecting langcodes<4.0.0,>=3.2.0 (from spacy)\n",
      "  Downloading langcodes-3.5.0-py3-none-any.whl.metadata (29 kB)\n",
      "Collecting language-data>=1.2 (from langcodes<4.0.0,>=3.2.0->spacy)\n",
      "  Downloading language_data-1.3.0-py3-none-any.whl.metadata (4.3 kB)\n",
      "Requirement already satisfied: annotated-types>=0.6.0 in /opt/anaconda3/lib/python3.11/site-packages (from pydantic!=1.8,!=1.8.1,<3.0.0,>=1.7.4->spacy) (0.6.0)\n",
      "Requirement already satisfied: pydantic-core==2.27.1 in /opt/anaconda3/lib/python3.11/site-packages (from pydantic!=1.8,!=1.8.1,<3.0.0,>=1.7.4->spacy) (2.27.1)\n",
      "Requirement already satisfied: typing-extensions>=4.12.2 in /opt/anaconda3/lib/python3.11/site-packages (from pydantic!=1.8,!=1.8.1,<3.0.0,>=1.7.4->spacy) (4.12.2)\n",
      "Requirement already satisfied: charset-normalizer<4,>=2 in /opt/anaconda3/lib/python3.11/site-packages (from requests<3.0.0,>=2.13.0->spacy) (2.0.4)\n",
      "Requirement already satisfied: idna<4,>=2.5 in /opt/anaconda3/lib/python3.11/site-packages (from requests<3.0.0,>=2.13.0->spacy) (3.4)\n",
      "Requirement already satisfied: urllib3<3,>=1.21.1 in /opt/anaconda3/lib/python3.11/site-packages (from requests<3.0.0,>=2.13.0->spacy) (2.0.7)\n",
      "Requirement already satisfied: certifi>=2017.4.17 in /opt/anaconda3/lib/python3.11/site-packages (from requests<3.0.0,>=2.13.0->spacy) (2024.12.14)\n",
      "Collecting blis<1.2.0,>=1.1.0 (from thinc<8.4.0,>=8.3.0->spacy)\n",
      "  Downloading blis-1.1.0-cp311-cp311-macosx_11_0_arm64.whl.metadata (7.7 kB)\n",
      "Collecting confection<1.0.0,>=0.0.1 (from thinc<8.4.0,>=8.3.0->spacy)\n",
      "  Downloading confection-0.1.5-py3-none-any.whl.metadata (19 kB)\n",
      "Requirement already satisfied: click<9.0.0,>=7.1.1 in /opt/anaconda3/lib/python3.11/site-packages (from typer<1.0.0,>=0.3.0->spacy) (8.1.7)\n",
      "Collecting cloudpathlib<1.0.0,>=0.7.0 (from weasel<0.5.0,>=0.1.0->spacy)\n",
      "  Downloading cloudpathlib-0.20.0-py3-none-any.whl.metadata (14 kB)\n",
      "Requirement already satisfied: smart-open<8.0.0,>=5.2.1 in /opt/anaconda3/lib/python3.11/site-packages (from weasel<0.5.0,>=0.1.0->spacy) (5.2.1)\n",
      "Requirement already satisfied: MarkupSafe>=2.0 in /opt/anaconda3/lib/python3.11/site-packages (from jinja2->spacy) (2.1.3)\n",
      "Collecting marisa-trie>=1.1.0 (from language-data>=1.2->langcodes<4.0.0,>=3.2.0->spacy)\n",
      "  Downloading marisa_trie-1.2.1-cp311-cp311-macosx_11_0_arm64.whl.metadata (9.0 kB)\n",
      "Downloading spacy-3.8.3-cp311-cp311-macosx_11_0_arm64.whl (6.3 MB)\n",
      "\u001b[2K   \u001b[90m━━━━━━━━━━━━━━━━━━━━━━━━━━━━━━━━━━━━━━━━\u001b[0m \u001b[32m6.3/6.3 MB\u001b[0m \u001b[31m33.4 MB/s\u001b[0m eta \u001b[36m0:00:00\u001b[0ma \u001b[36m0:00:01\u001b[0m\n",
      "\u001b[?25hDownloading catalogue-2.0.10-py3-none-any.whl (17 kB)\n",
      "Downloading cymem-2.0.10-cp311-cp311-macosx_11_0_arm64.whl (41 kB)\n",
      "\u001b[2K   \u001b[90m━━━━━━━━━━━━━━━━━━━━━━━━━━━━━━━━━━━━━━━━\u001b[0m \u001b[32m41.7/41.7 kB\u001b[0m \u001b[31m4.2 MB/s\u001b[0m eta \u001b[36m0:00:00\u001b[0m\n",
      "\u001b[?25hDownloading langcodes-3.5.0-py3-none-any.whl (182 kB)\n",
      "\u001b[2K   \u001b[90m━━━━━━━━━━━━━━━━━━━━━━━━━━━━━━━━━━━━━━━━\u001b[0m \u001b[32m183.0/183.0 kB\u001b[0m \u001b[31m21.6 MB/s\u001b[0m eta \u001b[36m0:00:00\u001b[0m\n",
      "\u001b[?25hDownloading murmurhash-1.0.11-cp311-cp311-macosx_11_0_arm64.whl (26 kB)\n",
      "Downloading preshed-3.0.9-cp311-cp311-macosx_11_0_arm64.whl (128 kB)\n",
      "\u001b[2K   \u001b[90m━━━━━━━━━━━━━━━━━━━━━━━━━━━━━━━━━━━━━━━━\u001b[0m \u001b[32m128.8/128.8 kB\u001b[0m \u001b[31m11.5 MB/s\u001b[0m eta \u001b[36m0:00:00\u001b[0m\n",
      "\u001b[?25hDownloading spacy_legacy-3.0.12-py2.py3-none-any.whl (29 kB)\n",
      "Downloading spacy_loggers-1.0.5-py3-none-any.whl (22 kB)\n",
      "Downloading srsly-2.5.0-cp311-cp311-macosx_11_0_arm64.whl (634 kB)\n",
      "\u001b[2K   \u001b[90m━━━━━━━━━━━━━━━━━━━━━━━━━━━━━━━━━━━━━━━━\u001b[0m \u001b[32m634.4/634.4 kB\u001b[0m \u001b[31m34.9 MB/s\u001b[0m eta \u001b[36m0:00:00\u001b[0m\n",
      "\u001b[?25hDownloading thinc-8.3.3-cp311-cp311-macosx_11_0_arm64.whl (774 kB)\n",
      "\u001b[2K   \u001b[90m━━━━━━━━━━━━━━━━━━━━━━━━━━━━━━━━━━━━━━━━\u001b[0m \u001b[32m774.2/774.2 kB\u001b[0m \u001b[31m48.8 MB/s\u001b[0m eta \u001b[36m0:00:00\u001b[0m\n",
      "\u001b[?25hDownloading wasabi-1.1.3-py3-none-any.whl (27 kB)\n",
      "Downloading weasel-0.4.1-py3-none-any.whl (50 kB)\n",
      "\u001b[2K   \u001b[90m━━━━━━━━━━━━━━━━━━━━━━━━━━━━━━━━━━━━━━━━\u001b[0m \u001b[32m50.3/50.3 kB\u001b[0m \u001b[31m4.7 MB/s\u001b[0m eta \u001b[36m0:00:00\u001b[0m\n",
      "\u001b[?25hDownloading blis-1.1.0-cp311-cp311-macosx_11_0_arm64.whl (1.1 MB)\n",
      "\u001b[2K   \u001b[90m━━━━━━━━━━━━━━━━━━━━━━━━━━━━━━━━━━━━━━━━\u001b[0m \u001b[32m1.1/1.1 MB\u001b[0m \u001b[31m45.2 MB/s\u001b[0m eta \u001b[36m0:00:00\u001b[0m\n",
      "\u001b[?25hDownloading cloudpathlib-0.20.0-py3-none-any.whl (52 kB)\n",
      "\u001b[2K   \u001b[90m━━━━━━━━━━━━━━━━━━━━━━━━━━━━━━━━━━━━━━━━\u001b[0m \u001b[32m52.5/52.5 kB\u001b[0m \u001b[31m4.7 MB/s\u001b[0m eta \u001b[36m0:00:00\u001b[0m\n",
      "\u001b[?25hDownloading confection-0.1.5-py3-none-any.whl (35 kB)\n",
      "Downloading language_data-1.3.0-py3-none-any.whl (5.4 MB)\n",
      "\u001b[2K   \u001b[90m━━━━━━━━━━━━━━━━━━━━━━━━━━━━━━━━━━━━━━━━\u001b[0m \u001b[32m5.4/5.4 MB\u001b[0m \u001b[31m23.2 MB/s\u001b[0m eta \u001b[36m0:00:00\u001b[0ma \u001b[36m0:00:01\u001b[0m\n",
      "\u001b[?25hDownloading marisa_trie-1.2.1-cp311-cp311-macosx_11_0_arm64.whl (174 kB)\n",
      "\u001b[2K   \u001b[90m━━━━━━━━━━━━━━━━━━━━━━━━━━━━━━━━━━━━━━━━\u001b[0m \u001b[32m175.0/175.0 kB\u001b[0m \u001b[31m22.0 MB/s\u001b[0m eta \u001b[36m0:00:00\u001b[0m\n",
      "\u001b[?25hInstalling collected packages: cymem, wasabi, spacy-loggers, spacy-legacy, murmurhash, marisa-trie, cloudpathlib, catalogue, blis, srsly, preshed, language-data, langcodes, confection, weasel, thinc, spacy\n",
      "Successfully installed blis-1.1.0 catalogue-2.0.10 cloudpathlib-0.20.0 confection-0.1.5 cymem-2.0.10 langcodes-3.5.0 language-data-1.3.0 marisa-trie-1.2.1 murmurhash-1.0.11 preshed-3.0.9 spacy-3.8.3 spacy-legacy-3.0.12 spacy-loggers-1.0.5 srsly-2.5.0 thinc-8.3.3 wasabi-1.1.3 weasel-0.4.1\n",
      "Note: you may need to restart the kernel to use updated packages.\n"
     ]
    }
   ],
   "source": [
    "pip install spacy\n"
   ]
  },
  {
   "cell_type": "code",
   "execution_count": 1,
   "id": "328b2cca-c788-4bfd-8be3-19455211e335",
   "metadata": {},
   "outputs": [
    {
     "name": "stdout",
     "output_type": "stream",
     "text": [
      "Collecting en-core-web-lg==3.8.0\n",
      "  Downloading https://github.com/explosion/spacy-models/releases/download/en_core_web_lg-3.8.0/en_core_web_lg-3.8.0-py3-none-any.whl (400.7 MB)\n",
      "\u001b[2K     \u001b[90m━━━━━━━━━━━━━━━━━━━━━━━━━━━━━━━━━━━━━━━\u001b[0m \u001b[32m400.7/400.7 MB\u001b[0m \u001b[31m7.1 MB/s\u001b[0m eta \u001b[36m0:00:00\u001b[0m00:01\u001b[0m00:01\u001b[0m\n",
      "\u001b[?25hInstalling collected packages: en-core-web-lg\n",
      "Successfully installed en-core-web-lg-3.8.0\n",
      "\u001b[38;5;2m✔ Download and installation successful\u001b[0m\n",
      "You can now load the package via spacy.load('en_core_web_lg')\n"
     ]
    }
   ],
   "source": [
    "!python -m spacy download en_core_web_lg"
   ]
  },
  {
   "cell_type": "code",
   "execution_count": 3,
   "id": "2d6ac9a3-fbd2-4680-85d7-954c95f94f13",
   "metadata": {},
   "outputs": [],
   "source": [
    "nlp = spacy.load(\"en_core_web_lg\")"
   ]
  },
  {
   "cell_type": "code",
   "execution_count": 4,
   "id": "1cdf7ddf-b5fd-4464-9f56-7815964bc494",
   "metadata": {},
   "outputs": [
    {
     "data": {
      "text/plain": [
       "<spacy.lang.en.English at 0x12f229850>"
      ]
     },
     "execution_count": 4,
     "metadata": {},
     "output_type": "execute_result"
    }
   ],
   "source": [
    "nlp"
   ]
  },
  {
   "cell_type": "code",
   "execution_count": 5,
   "id": "e6016d88-1946-4516-869f-7f582c41b5d6",
   "metadata": {},
   "outputs": [],
   "source": [
    "doc = nlp(\"Donad Trump was President of USA\")"
   ]
  },
  {
   "cell_type": "code",
   "execution_count": 6,
   "id": "e0f04c80-6411-4ada-8c58-d5f25315c1db",
   "metadata": {},
   "outputs": [
    {
     "data": {
      "text/plain": [
       "Donad Trump was President of USA"
      ]
     },
     "execution_count": 6,
     "metadata": {},
     "output_type": "execute_result"
    }
   ],
   "source": [
    "doc"
   ]
  },
  {
   "cell_type": "code",
   "execution_count": 7,
   "id": "f19657b5-0906-468d-b4f4-3106189b3d66",
   "metadata": {},
   "outputs": [
    {
     "data": {
      "text/plain": [
       "spacy.tokens.doc.Doc"
      ]
     },
     "execution_count": 7,
     "metadata": {},
     "output_type": "execute_result"
    }
   ],
   "source": [
    "type(doc)"
   ]
  },
  {
   "cell_type": "code",
   "execution_count": 8,
   "id": "0730f199-e095-4496-8de8-a34f3f0f5bb8",
   "metadata": {},
   "outputs": [
    {
     "data": {
      "text/plain": [
       "(Donad Trump, USA)"
      ]
     },
     "execution_count": 8,
     "metadata": {},
     "output_type": "execute_result"
    }
   ],
   "source": [
    "doc.ents"
   ]
  },
  {
   "cell_type": "code",
   "execution_count": 9,
   "id": "beee81e7-6f30-4d94-842b-1eae58ab250c",
   "metadata": {},
   "outputs": [
    {
     "data": {
      "text/plain": [
       "(Donad Trump, spacy.tokens.span.Span)"
      ]
     },
     "execution_count": 9,
     "metadata": {},
     "output_type": "execute_result"
    }
   ],
   "source": [
    "doc.ents[0], type(doc.ents[0])"
   ]
  },
  {
   "cell_type": "code",
   "execution_count": 10,
   "id": "02396b97-4682-4004-a294-b6d09ae2874e",
   "metadata": {},
   "outputs": [
    {
     "data": {
      "text/html": [
       "<span class=\"tex2jax_ignore\"><div class=\"entities\" style=\"line-height: 2.5; direction: ltr\">\n",
       "<mark class=\"entity\" style=\"background: #aa9cfc; padding: 0.45em 0.6em; margin: 0 0.25em; line-height: 1; border-radius: 0.35em;\">\n",
       "    Donad Trump\n",
       "    <span style=\"font-size: 0.8em; font-weight: bold; line-height: 1; border-radius: 0.35em; vertical-align: middle; margin-left: 0.5rem\">PERSON</span>\n",
       "</mark>\n",
       " was President of \n",
       "<mark class=\"entity\" style=\"background: #feca74; padding: 0.45em 0.6em; margin: 0 0.25em; line-height: 1; border-radius: 0.35em;\">\n",
       "    USA\n",
       "    <span style=\"font-size: 0.8em; font-weight: bold; line-height: 1; border-radius: 0.35em; vertical-align: middle; margin-left: 0.5rem\">GPE</span>\n",
       "</mark>\n",
       "</div></span>"
      ],
      "text/plain": [
       "<IPython.core.display.HTML object>"
      ]
     },
     "metadata": {},
     "output_type": "display_data"
    }
   ],
   "source": [
    "from spacy import displacy\n",
    "displacy.render(doc, style=\"ent\", jupyter=True)"
   ]
  },
  {
   "cell_type": "code",
   "execution_count": 11,
   "id": "58eddbd7-7974-473f-a4cf-cb5f71a9816a",
   "metadata": {},
   "outputs": [],
   "source": [
    "import json\n",
    "# https://www.kaggle.com/datasets/finalepoch/medical-ner \n",
    "with open('Corona2.json', 'r') as f:\n",
    "    data = json.load(f)"
   ]
  },
  {
   "cell_type": "code",
   "execution_count": 12,
   "id": "252f0a7c-19ee-4985-9998-7a816e8dffb1",
   "metadata": {
    "scrolled": true
   },
   "outputs": [
    {
     "data": {
      "text/plain": [
       "{'id': '18c2f619-f102-452f-ab81-d26f7e283ffe',\n",
       " 'content': \"While bismuth compounds (Pepto-Bismol) decreased the number of bowel movements in those with travelers' diarrhea, they do not decrease the length of illness.[91] Anti-motility agents like loperamide are also effective at reducing the number of stools but not the duration of disease.[8] These agents should be used only if bloody diarrhea is not present.[92]\\n\\nDiosmectite, a natural aluminomagnesium silicate clay, is effective in alleviating symptoms of acute diarrhea in children,[93] and also has some effects in chronic functional diarrhea, radiation-induced diarrhea, and chemotherapy-induced diarrhea.[45] Another absorbent agent used for the treatment of mild diarrhea is kaopectate.\\n\\nRacecadotril an antisecretory medication may be used to treat diarrhea in children and adults.[86] It has better tolerability than loperamide, as it causes less constipation and flatulence.[94]\",\n",
       " 'metadata': {},\n",
       " 'annotations': [{'id': '0825a1bf-6a6e-4fa2-be77-8d104701eaed',\n",
       "   'tag_id': 'c06bd022-6ded-44a5-8d90-f17685bb85a1',\n",
       "   'end': 371,\n",
       "   'start': 360,\n",
       "   'example_id': '18c2f619-f102-452f-ab81-d26f7e283ffe',\n",
       "   'tag_name': 'Medicine',\n",
       "   'value': 'Diosmectite',\n",
       "   'correct': None,\n",
       "   'human_annotations': [{'timestamp': '2020-03-21T00:24:32.098000Z',\n",
       "     'annotator_id': 1,\n",
       "     'tagged_token_id': '0825a1bf-6a6e-4fa2-be77-8d104701eaed',\n",
       "     'name': 'Ashpat123',\n",
       "     'reason': 'exploration'}],\n",
       "   'model_annotations': []},\n",
       "  {'id': '145f62b1-bbf5-42f1-8ad5-9c7e08337bf0',\n",
       "   'tag_id': 'c06bd022-6ded-44a5-8d90-f17685bb85a1',\n",
       "   'end': 408,\n",
       "   'start': 383,\n",
       "   'example_id': '18c2f619-f102-452f-ab81-d26f7e283ffe',\n",
       "   'tag_name': 'Medicine',\n",
       "   'value': 'aluminomagnesium silicate',\n",
       "   'correct': None,\n",
       "   'human_annotations': [{'timestamp': '2020-03-21T00:24:43.692000Z',\n",
       "     'annotator_id': 1,\n",
       "     'tagged_token_id': '145f62b1-bbf5-42f1-8ad5-9c7e08337bf0',\n",
       "     'name': 'Ashpat123',\n",
       "     'reason': 'exploration'}],\n",
       "   'model_annotations': []},\n",
       "  {'id': '243efeb2-723f-4be4-933c-fbbf7e0f9903',\n",
       "   'tag_id': '03eb3e50-d4d8-4261-a60b-fa5aee5deb4a',\n",
       "   'end': 112,\n",
       "   'start': 104,\n",
       "   'example_id': '18c2f619-f102-452f-ab81-d26f7e283ffe',\n",
       "   'tag_name': 'MedicalCondition',\n",
       "   'value': 'diarrhea',\n",
       "   'correct': None,\n",
       "   'human_annotations': [{'timestamp': '2020-03-21T00:24:09.423000Z',\n",
       "     'annotator_id': 1,\n",
       "     'tagged_token_id': '243efeb2-723f-4be4-933c-fbbf7e0f9903',\n",
       "     'name': 'Ashpat123',\n",
       "     'reason': 'exploration'}],\n",
       "   'model_annotations': []},\n",
       "  {'id': '281f49d3-879a-4409-b09e-4cfae019af16',\n",
       "   'tag_id': 'c06bd022-6ded-44a5-8d90-f17685bb85a1',\n",
       "   'end': 689,\n",
       "   'start': 679,\n",
       "   'example_id': '18c2f619-f102-452f-ab81-d26f7e283ffe',\n",
       "   'tag_name': 'Medicine',\n",
       "   'value': 'kaopectate',\n",
       "   'correct': None,\n",
       "   'human_annotations': [{'timestamp': '2020-03-21T00:25:38.366000Z',\n",
       "     'annotator_id': 1,\n",
       "     'tagged_token_id': '281f49d3-879a-4409-b09e-4cfae019af16',\n",
       "     'name': 'Ashpat123',\n",
       "     'reason': 'exploration'}],\n",
       "   'model_annotations': []},\n",
       "  {'id': '32fdf9e7-63f7-442a-8e25-f08ea4ad94d5',\n",
       "   'tag_id': 'c06bd022-6ded-44a5-8d90-f17685bb85a1',\n",
       "   'end': 23,\n",
       "   'start': 6,\n",
       "   'example_id': '18c2f619-f102-452f-ab81-d26f7e283ffe',\n",
       "   'tag_name': 'Medicine',\n",
       "   'value': 'bismuth compounds',\n",
       "   'correct': None,\n",
       "   'human_annotations': [{'timestamp': '2020-03-21T00:23:46.721000Z',\n",
       "     'annotator_id': 1,\n",
       "     'tagged_token_id': '32fdf9e7-63f7-442a-8e25-f08ea4ad94d5',\n",
       "     'name': 'Ashpat123',\n",
       "     'reason': 'exploration'}],\n",
       "   'model_annotations': []},\n",
       "  {'id': '392094d2-febf-4074-a2ca-4c0082f4e5b8',\n",
       "   'tag_id': 'c06bd022-6ded-44a5-8d90-f17685bb85a1',\n",
       "   'end': 37,\n",
       "   'start': 25,\n",
       "   'example_id': '18c2f619-f102-452f-ab81-d26f7e283ffe',\n",
       "   'tag_name': 'Medicine',\n",
       "   'value': 'Pepto-Bismol',\n",
       "   'correct': None,\n",
       "   'human_annotations': [{'timestamp': '2020-03-21T00:23:58.861000Z',\n",
       "     'annotator_id': 1,\n",
       "     'tagged_token_id': '392094d2-febf-4074-a2ca-4c0082f4e5b8',\n",
       "     'name': 'Ashpat123',\n",
       "     'reason': 'exploration'}],\n",
       "   'model_annotations': []},\n",
       "  {'id': '450b8c30-cf2e-4774-96d9-58b4160bea38',\n",
       "   'tag_id': '03eb3e50-d4d8-4261-a60b-fa5aee5deb4a',\n",
       "   'end': 470,\n",
       "   'start': 461,\n",
       "   'example_id': '18c2f619-f102-452f-ab81-d26f7e283ffe',\n",
       "   'tag_name': 'MedicalCondition',\n",
       "   'value': 'diarrhea ',\n",
       "   'correct': None,\n",
       "   'human_annotations': [],\n",
       "   'model_annotations': []},\n",
       "  {'id': '6b73f683-7130-4e16-bcc2-e3cc8cf89f4d',\n",
       "   'tag_id': 'c06bd022-6ded-44a5-8d90-f17685bb85a1',\n",
       "   'end': 589,\n",
       "   'start': 577,\n",
       "   'example_id': '18c2f619-f102-452f-ab81-d26f7e283ffe',\n",
       "   'tag_name': 'Medicine',\n",
       "   'value': 'chemotherapy',\n",
       "   'correct': None,\n",
       "   'human_annotations': [{'timestamp': '2020-03-21T00:25:24.179000Z',\n",
       "     'annotator_id': 1,\n",
       "     'tagged_token_id': '6b73f683-7130-4e16-bcc2-e3cc8cf89f4d',\n",
       "     'name': 'Ashpat123',\n",
       "     'reason': 'exploration'}],\n",
       "   'model_annotations': []},\n",
       "  {'id': '74574b7f-d535-48e1-8651-2708adcfe453',\n",
       "   'tag_id': '03eb3e50-d4d8-4261-a60b-fa5aee5deb4a',\n",
       "   'end': 865,\n",
       "   'start': 853,\n",
       "   'example_id': '18c2f619-f102-452f-ab81-d26f7e283ffe',\n",
       "   'tag_name': 'MedicalCondition',\n",
       "   'value': 'constipation',\n",
       "   'correct': None,\n",
       "   'human_annotations': [{'timestamp': '2020-03-21T00:26:31.676000Z',\n",
       "     'annotator_id': 1,\n",
       "     'tagged_token_id': '74574b7f-d535-48e1-8651-2708adcfe453',\n",
       "     'name': 'Ashpat123',\n",
       "     'reason': 'exploration'}],\n",
       "   'model_annotations': []},\n",
       "  {'id': '7572ab8e-ae99-400c-b4ab-ed46fbc9f97e',\n",
       "   'tag_id': 'c06bd022-6ded-44a5-8d90-f17685bb85a1',\n",
       "   'end': 198,\n",
       "   'start': 188,\n",
       "   'example_id': '18c2f619-f102-452f-ab81-d26f7e283ffe',\n",
       "   'tag_name': 'Medicine',\n",
       "   'value': 'loperamide',\n",
       "   'correct': None,\n",
       "   'human_annotations': [{'timestamp': '2020-03-21T00:24:17.680000Z',\n",
       "     'annotator_id': 1,\n",
       "     'tagged_token_id': '7572ab8e-ae99-400c-b4ab-ed46fbc9f97e',\n",
       "     'name': 'Ashpat123',\n",
       "     'reason': 'exploration'}],\n",
       "   'model_annotations': []},\n",
       "  {'id': '800e6c6c-0bfb-4819-a25a-34f759753457',\n",
       "   'tag_id': '03eb3e50-d4d8-4261-a60b-fa5aee5deb4a',\n",
       "   'end': 762,\n",
       "   'start': 754,\n",
       "   'example_id': '18c2f619-f102-452f-ab81-d26f7e283ffe',\n",
       "   'tag_name': 'MedicalCondition',\n",
       "   'value': 'diarrhea',\n",
       "   'correct': None,\n",
       "   'human_annotations': [{'timestamp': '2020-03-21T00:26:07.368000Z',\n",
       "     'annotator_id': 1,\n",
       "     'tagged_token_id': '800e6c6c-0bfb-4819-a25a-34f759753457',\n",
       "     'name': 'Ashpat123',\n",
       "     'reason': 'exploration'}],\n",
       "   'model_annotations': []},\n",
       "  {'id': '8214556a-7584-4d9b-86cd-5e09137ad904',\n",
       "   'tag_id': '03eb3e50-d4d8-4261-a60b-fa5aee5deb4a',\n",
       "   'end': 880,\n",
       "   'start': 870,\n",
       "   'example_id': '18c2f619-f102-452f-ab81-d26f7e283ffe',\n",
       "   'tag_name': 'MedicalCondition',\n",
       "   'value': 'flatulence',\n",
       "   'correct': None,\n",
       "   'human_annotations': [{'timestamp': '2020-03-21T00:26:41.322000Z',\n",
       "     'annotator_id': 1,\n",
       "     'tagged_token_id': '8214556a-7584-4d9b-86cd-5e09137ad904',\n",
       "     'name': 'Ashpat123',\n",
       "     'reason': 'exploration'}],\n",
       "   'model_annotations': []},\n",
       "  {'id': '98968e14-6756-4174-9d3d-7abd58b3aa34',\n",
       "   'tag_id': 'c06bd022-6ded-44a5-8d90-f17685bb85a1',\n",
       "   'end': 833,\n",
       "   'start': 823,\n",
       "   'example_id': '18c2f619-f102-452f-ab81-d26f7e283ffe',\n",
       "   'tag_name': 'Medicine',\n",
       "   'value': 'loperamide',\n",
       "   'correct': None,\n",
       "   'human_annotations': [{'timestamp': '2020-03-21T00:26:12.759000Z',\n",
       "     'annotator_id': 1,\n",
       "     'tagged_token_id': '98968e14-6756-4174-9d3d-7abd58b3aa34',\n",
       "     'name': 'Ashpat123',\n",
       "     'reason': 'exploration'}],\n",
       "   'model_annotations': []},\n",
       "  {'id': 'a0a03c7b-cfad-41ee-9f5c-f8a802475994',\n",
       "   'tag_id': '03eb3e50-d4d8-4261-a60b-fa5aee5deb4a',\n",
       "   'end': 853,\n",
       "   'start': 852,\n",
       "   'example_id': '18c2f619-f102-452f-ab81-d26f7e283ffe',\n",
       "   'tag_name': 'MedicalCondition',\n",
       "   'value': ' ',\n",
       "   'correct': None,\n",
       "   'human_annotations': [],\n",
       "   'model_annotations': []},\n",
       "  {'id': 'bfbddfd4-38aa-43a7-9366-24c95829ac8c',\n",
       "   'tag_id': '03eb3e50-d4d8-4261-a60b-fa5aee5deb4a',\n",
       "   'end': 469,\n",
       "   'start': 461,\n",
       "   'example_id': '18c2f619-f102-452f-ab81-d26f7e283ffe',\n",
       "   'tag_name': 'MedicalCondition',\n",
       "   'value': 'diarrhea',\n",
       "   'correct': None,\n",
       "   'human_annotations': [{'timestamp': '2020-03-21T00:25:06.921000Z',\n",
       "     'annotator_id': 1,\n",
       "     'tagged_token_id': 'bfbddfd4-38aa-43a7-9366-24c95829ac8c',\n",
       "     'name': 'Ashpat123',\n",
       "     'reason': 'exploration'}],\n",
       "   'model_annotations': []},\n",
       "  {'id': 'd7d68c18-0d8e-4547-a2fa-81fdcaf3080e',\n",
       "   'tag_id': '03eb3e50-d4d8-4261-a60b-fa5aee5deb4a',\n",
       "   'end': 543,\n",
       "   'start': 535,\n",
       "   'example_id': '18c2f619-f102-452f-ab81-d26f7e283ffe',\n",
       "   'tag_name': 'MedicalCondition',\n",
       "   'value': 'diarrhea',\n",
       "   'correct': None,\n",
       "   'human_annotations': [{'timestamp': '2020-03-21T00:25:12.203000Z',\n",
       "     'annotator_id': 1,\n",
       "     'tagged_token_id': 'd7d68c18-0d8e-4547-a2fa-81fdcaf3080e',\n",
       "     'name': 'Ashpat123',\n",
       "     'reason': 'exploration'}],\n",
       "   'model_annotations': []},\n",
       "  {'id': 'ee956220-42a4-4a91-b9f0-75019c4f5dd9',\n",
       "   'tag_id': 'c06bd022-6ded-44a5-8d90-f17685bb85a1',\n",
       "   'end': 704,\n",
       "   'start': 692,\n",
       "   'example_id': '18c2f619-f102-452f-ab81-d26f7e283ffe',\n",
       "   'tag_name': 'Medicine',\n",
       "   'value': 'Racecadotril',\n",
       "   'correct': None,\n",
       "   'human_annotations': [{'timestamp': '2020-03-21T00:25:56.503000Z',\n",
       "     'annotator_id': 1,\n",
       "     'tagged_token_id': 'ee956220-42a4-4a91-b9f0-75019c4f5dd9',\n",
       "     'name': 'Ashpat123',\n",
       "     'reason': 'exploration'}],\n",
       "   'model_annotations': []},\n",
       "  {'id': 'f04a6b7e-8904-405c-9301-e4543238b7a5',\n",
       "   'tag_id': '03eb3e50-d4d8-4261-a60b-fa5aee5deb4a',\n",
       "   'end': 571,\n",
       "   'start': 563,\n",
       "   'example_id': '18c2f619-f102-452f-ab81-d26f7e283ffe',\n",
       "   'tag_name': 'MedicalCondition',\n",
       "   'value': 'diarrhea',\n",
       "   'correct': None,\n",
       "   'human_annotations': [{'timestamp': '2020-03-21T00:25:18.043000Z',\n",
       "     'annotator_id': 1,\n",
       "     'tagged_token_id': 'f04a6b7e-8904-405c-9301-e4543238b7a5',\n",
       "     'name': 'Ashpat123',\n",
       "     'reason': 'exploration'}],\n",
       "   'model_annotations': []}],\n",
       " 'classifications': []}"
      ]
     },
     "execution_count": 12,
     "metadata": {},
     "output_type": "execute_result"
    }
   ],
   "source": [
    "data['examples'][0]"
   ]
  },
  {
   "cell_type": "code",
   "execution_count": 13,
   "id": "0c717689-2278-44c0-acdf-2e18bf0ee1d8",
   "metadata": {},
   "outputs": [
    {
     "data": {
      "text/plain": [
       "dict_keys(['id', 'content', 'metadata', 'annotations', 'classifications'])"
      ]
     },
     "execution_count": 13,
     "metadata": {},
     "output_type": "execute_result"
    }
   ],
   "source": [
    "data['examples'][0].keys()"
   ]
  },
  {
   "cell_type": "code",
   "execution_count": 14,
   "id": "adb073c1-d5ea-42eb-9a24-13db2a7de2d4",
   "metadata": {},
   "outputs": [
    {
     "data": {
      "text/plain": [
       "\"While bismuth compounds (Pepto-Bismol) decreased the number of bowel movements in those with travelers' diarrhea, they do not decrease the length of illness.[91] Anti-motility agents like loperamide are also effective at reducing the number of stools but not the duration of disease.[8] These agents should be used only if bloody diarrhea is not present.[92]\\n\\nDiosmectite, a natural aluminomagnesium silicate clay, is effective in alleviating symptoms of acute diarrhea in children,[93] and also has some effects in chronic functional diarrhea, radiation-induced diarrhea, and chemotherapy-induced diarrhea.[45] Another absorbent agent used for the treatment of mild diarrhea is kaopectate.\\n\\nRacecadotril an antisecretory medication may be used to treat diarrhea in children and adults.[86] It has better tolerability than loperamide, as it causes less constipation and flatulence.[94]\""
      ]
     },
     "execution_count": 14,
     "metadata": {},
     "output_type": "execute_result"
    }
   ],
   "source": [
    "data['examples'][0]['content']"
   ]
  },
  {
   "cell_type": "code",
   "execution_count": 15,
   "id": "8502ce3b-30e4-48ba-9b8e-94114fce0aa6",
   "metadata": {},
   "outputs": [
    {
     "data": {
      "text/plain": [
       "{'id': '0825a1bf-6a6e-4fa2-be77-8d104701eaed',\n",
       " 'tag_id': 'c06bd022-6ded-44a5-8d90-f17685bb85a1',\n",
       " 'end': 371,\n",
       " 'start': 360,\n",
       " 'example_id': '18c2f619-f102-452f-ab81-d26f7e283ffe',\n",
       " 'tag_name': 'Medicine',\n",
       " 'value': 'Diosmectite',\n",
       " 'correct': None,\n",
       " 'human_annotations': [{'timestamp': '2020-03-21T00:24:32.098000Z',\n",
       "   'annotator_id': 1,\n",
       "   'tagged_token_id': '0825a1bf-6a6e-4fa2-be77-8d104701eaed',\n",
       "   'name': 'Ashpat123',\n",
       "   'reason': 'exploration'}],\n",
       " 'model_annotations': []}"
      ]
     },
     "execution_count": 15,
     "metadata": {},
     "output_type": "execute_result"
    }
   ],
   "source": [
    "data['examples'][0]['annotations'][0]"
   ]
  },
  {
   "cell_type": "code",
   "execution_count": 16,
   "id": "248b9b96-4ed7-4d46-af54-0ef74b5670f3",
   "metadata": {},
   "outputs": [
    {
     "name": "stdout",
     "output_type": "stream",
     "text": [
      "{'text': \"While bismuth compounds (Pepto-Bismol) decreased the number of bowel movements in those with travelers' diarrhea, they do not decrease the length of illness.[91] Anti-motility agents like loperamide are also effective at reducing the number of stools but not the duration of disease.[8] These agents should be used only if bloody diarrhea is not present.[92]\\n\\nDiosmectite, a natural aluminomagnesium silicate clay, is effective in alleviating symptoms of acute diarrhea in children,[93] and also has some effects in chronic functional diarrhea, radiation-induced diarrhea, and chemotherapy-induced diarrhea.[45] Another absorbent agent used for the treatment of mild diarrhea is kaopectate.\\n\\nRacecadotril an antisecretory medication may be used to treat diarrhea in children and adults.[86] It has better tolerability than loperamide, as it causes less constipation and flatulence.[94]\", 'entities': [(360, 371, 'MEDICINE'), (383, 408, 'MEDICINE'), (104, 112, 'MEDICALCONDITION'), (679, 689, 'MEDICINE'), (6, 23, 'MEDICINE'), (25, 37, 'MEDICINE'), (461, 470, 'MEDICALCONDITION'), (577, 589, 'MEDICINE'), (853, 865, 'MEDICALCONDITION'), (188, 198, 'MEDICINE'), (754, 762, 'MEDICALCONDITION'), (870, 880, 'MEDICALCONDITION'), (823, 833, 'MEDICINE'), (852, 853, 'MEDICALCONDITION'), (461, 469, 'MEDICALCONDITION'), (535, 543, 'MEDICALCONDITION'), (692, 704, 'MEDICINE'), (563, 571, 'MEDICALCONDITION')]}\n"
     ]
    }
   ],
   "source": [
    "training_data = []\n",
    "for example in data['examples']:\n",
    "  temp_dict = {}\n",
    "  temp_dict['text'] = example['content']\n",
    "  temp_dict['entities'] = []\n",
    "  for annotation in example['annotations']:\n",
    "    start = annotation['start']\n",
    "    end = annotation['end']\n",
    "    label = annotation['tag_name'].upper()\n",
    "    temp_dict['entities'].append((start, end, label))\n",
    "  training_data.append(temp_dict)\n",
    "  \n",
    "print(training_data[0])"
   ]
  },
  {
   "cell_type": "code",
   "execution_count": 17,
   "id": "3f908b48-5169-44ea-9a26-6963b5aa406a",
   "metadata": {},
   "outputs": [
    {
     "data": {
      "text/plain": [
       "\"While bismuth compounds (Pepto-Bismol) decreased the number of bowel movements in those with travelers' diarrhea, they do not decrease the length of illness.[91] Anti-motility agents like loperamide are also effective at reducing the number of stools but not the duration of disease.[8] These agents should be used only if bloody diarrhea is not present.[92]\\n\\nDiosmectite, a natural aluminomagnesium silicate clay, is effective in alleviating symptoms of acute diarrhea in children,[93] and also has some effects in chronic functional diarrhea, radiation-induced diarrhea, and chemotherapy-induced diarrhea.[45] Another absorbent agent used for the treatment of mild diarrhea is kaopectate.\\n\\nRacecadotril an antisecretory medication may be used to treat diarrhea in children and adults.[86] It has better tolerability than loperamide, as it causes less constipation and flatulence.[94]\""
      ]
     },
     "execution_count": 17,
     "metadata": {},
     "output_type": "execute_result"
    }
   ],
   "source": [
    "training_data[0]['text']"
   ]
  },
  {
   "cell_type": "code",
   "execution_count": 18,
   "id": "abc463a4-c823-45b7-8058-94371c47f3d0",
   "metadata": {
    "scrolled": true
   },
   "outputs": [
    {
     "data": {
      "text/plain": [
       "[(360, 371, 'MEDICINE'),\n",
       " (383, 408, 'MEDICINE'),\n",
       " (104, 112, 'MEDICALCONDITION'),\n",
       " (679, 689, 'MEDICINE'),\n",
       " (6, 23, 'MEDICINE'),\n",
       " (25, 37, 'MEDICINE'),\n",
       " (461, 470, 'MEDICALCONDITION'),\n",
       " (577, 589, 'MEDICINE'),\n",
       " (853, 865, 'MEDICALCONDITION'),\n",
       " (188, 198, 'MEDICINE'),\n",
       " (754, 762, 'MEDICALCONDITION'),\n",
       " (870, 880, 'MEDICALCONDITION'),\n",
       " (823, 833, 'MEDICINE'),\n",
       " (852, 853, 'MEDICALCONDITION'),\n",
       " (461, 469, 'MEDICALCONDITION'),\n",
       " (535, 543, 'MEDICALCONDITION'),\n",
       " (692, 704, 'MEDICINE'),\n",
       " (563, 571, 'MEDICALCONDITION')]"
      ]
     },
     "execution_count": 18,
     "metadata": {},
     "output_type": "execute_result"
    }
   ],
   "source": [
    "training_data[0]['entities']"
   ]
  },
  {
   "cell_type": "code",
   "execution_count": 19,
   "id": "7894a624-aacc-4dd9-a361-225dbb9ef54b",
   "metadata": {},
   "outputs": [
    {
     "data": {
      "text/plain": [
       "'Diosmectite'"
      ]
     },
     "execution_count": 19,
     "metadata": {},
     "output_type": "execute_result"
    }
   ],
   "source": [
    "training_data[0]['text'][360:371]"
   ]
  },
  {
   "cell_type": "code",
   "execution_count": 20,
   "id": "908760df-89c1-4b04-9f1e-a0fdfdad25d5",
   "metadata": {},
   "outputs": [],
   "source": [
    "from spacy.tokens import DocBin\n",
    "from tqdm import tqdm\n",
    "\n",
    "nlp = spacy.blank(\"en\") # load a new spacy model\n",
    "doc_bin = DocBin()"
   ]
  },
  {
   "cell_type": "code",
   "execution_count": 21,
   "id": "f13dad9e-9e03-4c5c-8bc7-fcbef32ad3e8",
   "metadata": {},
   "outputs": [
    {
     "name": "stderr",
     "output_type": "stream",
     "text": [
      "100%|██████████████████████████████████████████| 31/31 [00:00<00:00, 915.59it/s]"
     ]
    },
    {
     "name": "stdout",
     "output_type": "stream",
     "text": [
      "Skipping entity\n",
      "Skipping entity\n",
      "Skipping entity\n",
      "Skipping entity\n",
      "Skipping entity\n",
      "Skipping entity\n",
      "Skipping entity\n",
      "Skipping entity\n",
      "Skipping entity\n",
      "Skipping entity\n",
      "Skipping entity\n",
      "Skipping entity\n",
      "Skipping entity\n",
      "Skipping entity\n",
      "Skipping entity\n",
      "Skipping entity\n"
     ]
    },
    {
     "name": "stderr",
     "output_type": "stream",
     "text": [
      "\n"
     ]
    }
   ],
   "source": [
    "from spacy.util import filter_spans\n",
    "\n",
    "for training_example  in tqdm(training_data): \n",
    "    text = training_example['text']\n",
    "    labels = training_example['entities']\n",
    "    doc = nlp.make_doc(text) \n",
    "    ents = []\n",
    "    for start, end, label in labels:\n",
    "        span = doc.char_span(start, end, label=label, alignment_mode=\"contract\")\n",
    "        if span is None:\n",
    "            print(\"Skipping entity\")\n",
    "        else:\n",
    "            ents.append(span)\n",
    "    filtered_ents = filter_spans(ents)\n",
    "    doc.ents = filtered_ents \n",
    "    doc_bin.add(doc)\n",
    "\n",
    "doc_bin.to_disk(\"train.spacy\") "
   ]
  },
  {
   "cell_type": "code",
   "execution_count": 22,
   "id": "fcb8efcc-c2f5-43c8-bb37-90bc9eea9580",
   "metadata": {},
   "outputs": [],
   "source": [
    "# https://spacy.io/usage/training#quickstart"
   ]
  },
  {
   "cell_type": "code",
   "execution_count": 23,
   "id": "1241bf9a-44d9-4f99-aa58-90e9ab1da261",
   "metadata": {},
   "outputs": [
    {
     "name": "stdout",
     "output_type": "stream",
     "text": [
      "\u001b[38;5;2m✔ Auto-filled config with all values\u001b[0m\r\n",
      "\u001b[38;5;2m✔ Saved config\u001b[0m\r\n",
      "config.cfg\r\n",
      "You can now add your data and train your pipeline:\r\n",
      "python -m spacy train config.cfg --paths.train ./train.spacy --paths.dev ./dev.spacy\r\n"
     ]
    }
   ],
   "source": [
    "!python -m spacy init fill-config base_config.cfg config.cfg"
   ]
  },
  {
   "cell_type": "code",
   "execution_count": 32,
   "id": "0d427ba3-61ec-4c72-9128-037ee4a6b794",
   "metadata": {},
   "outputs": [],
   "source": [
    "import os\n",
    "os.environ[\"KMP_DUPLICATE_LIB_OK\"] = \"TRUE\"\n"
   ]
  },
  {
   "cell_type": "code",
   "execution_count": 24,
   "id": "5d8f0233-302b-4faa-b0a4-20dfe11e5e34",
   "metadata": {},
   "outputs": [
    {
     "name": "stdout",
     "output_type": "stream",
     "text": [
      "\u001b[38;5;4mℹ Saving to output directory: .\u001b[0m\n",
      "\u001b[38;5;4mℹ Using CPU\u001b[0m\n",
      "\u001b[1m\n",
      "=========================== Initializing pipeline ===========================\u001b[0m\n",
      "\u001b[38;5;2m✔ Initialized pipeline\u001b[0m\n",
      "\u001b[1m\n",
      "============================= Training pipeline =============================\u001b[0m\n",
      "\u001b[38;5;4mℹ Pipeline: ['tok2vec', 'ner']\u001b[0m\n",
      "\u001b[38;5;4mℹ Initial learn rate: 0.001\u001b[0m\n",
      "E    #       LOSS TOK2VEC  LOSS NER  ENTS_F  ENTS_P  ENTS_R  SCORE \n",
      "---  ------  ------------  --------  ------  ------  ------  ------\n",
      "  0       0          0.00    153.29    0.29    0.23    0.39    0.00\n",
      "  7     200        413.89   3075.46   76.83   79.41   74.41    0.77\n",
      " 14     400         65.63    888.31   87.50   89.67   85.43    0.88\n",
      " 22     600        653.24    457.75   97.27   96.51   98.03    0.97\n",
      " 30     800        104.81    335.76   90.07   84.48   96.46    0.90\n",
      " 40    1000         67.99    262.54   97.06   96.50   97.64    0.97\n",
      " 51    1200         44.87    161.47   98.43   98.05   98.82    0.98\n",
      " 65    1400         58.41    172.52   98.82   98.44   99.21    0.99\n",
      " 81    1600        113.48    199.10   98.82   98.82   98.82    0.99\n",
      "101    1800         88.17    202.05   98.82   98.82   98.82    0.99\n",
      "127    2000         91.39    252.34   98.43   98.43   98.43    0.98\n",
      "159    2200         48.15    209.33   98.81   99.21   98.43    0.99\n",
      "198    2400         31.82    232.97   98.81   99.21   98.43    0.99\n",
      "246    2600         54.06    274.50   98.82   98.82   98.82    0.99\n",
      "295    2800        220.36    336.52   98.82   98.82   98.82    0.99\n",
      "345    3000         59.61    273.23   98.81   99.21   98.43    0.99\n",
      "\u001b[38;5;2m✔ Saved pipeline to output directory\u001b[0m\n",
      "model-last\n"
     ]
    }
   ],
   "source": [
    "!python -m spacy train config.cfg --output ./ --paths.train ./train.spacy --paths.dev ./train.spacy"
   ]
  },
  {
   "cell_type": "code",
   "execution_count": 25,
   "id": "feb1479b-289d-4db8-af39-f1fd886b4799",
   "metadata": {},
   "outputs": [],
   "source": [
    "nlp_ner = spacy.load(\"model-best\")"
   ]
  },
  {
   "cell_type": "code",
   "execution_count": 26,
   "id": "5e04ff8f-1d69-4206-b2f9-6da4ffa3eb31",
   "metadata": {},
   "outputs": [
    {
     "data": {
      "text/html": [
       "<span class=\"tex2jax_ignore\"><div class=\"entities\" style=\"line-height: 2.5; direction: ltr\">While \n",
       "<mark class=\"entity\" style=\"background: #7DF6D9; padding: 0.45em 0.6em; margin: 0 0.25em; line-height: 1; border-radius: 0.35em;\">\n",
       "    bismuth compounds\n",
       "    <span style=\"font-size: 0.8em; font-weight: bold; line-height: 1; border-radius: 0.35em; vertical-align: middle; margin-left: 0.5rem\">MEDICINE</span>\n",
       "</mark>\n",
       " (\n",
       "<mark class=\"entity\" style=\"background: #7DF6D9; padding: 0.45em 0.6em; margin: 0 0.25em; line-height: 1; border-radius: 0.35em;\">\n",
       "    Pepto-Bismol\n",
       "    <span style=\"font-size: 0.8em; font-weight: bold; line-height: 1; border-radius: 0.35em; vertical-align: middle; margin-left: 0.5rem\">MEDICINE</span>\n",
       "</mark>\n",
       ") decreased the number of bowel movements in those with travelers' \n",
       "<mark class=\"entity\" style=\"background: #a6e22d; padding: 0.45em 0.6em; margin: 0 0.25em; line-height: 1; border-radius: 0.35em;\">\n",
       "    diarrhea\n",
       "    <span style=\"font-size: 0.8em; font-weight: bold; line-height: 1; border-radius: 0.35em; vertical-align: middle; margin-left: 0.5rem\">MEDICALCONDITION</span>\n",
       "</mark>\n",
       ", they do not decrease the length of illness.[91] Anti-motility agents like \n",
       "<mark class=\"entity\" style=\"background: #7DF6D9; padding: 0.45em 0.6em; margin: 0 0.25em; line-height: 1; border-radius: 0.35em;\">\n",
       "    loperamide\n",
       "    <span style=\"font-size: 0.8em; font-weight: bold; line-height: 1; border-radius: 0.35em; vertical-align: middle; margin-left: 0.5rem\">MEDICINE</span>\n",
       "</mark>\n",
       " are also effective at reducing the number of stools but not the duration of disease.[8] These agents should be used only if bloody diarrhea is not present.</div></span>"
      ],
      "text/plain": [
       "<IPython.core.display.HTML object>"
      ]
     },
     "metadata": {},
     "output_type": "display_data"
    }
   ],
   "source": [
    "doc = nlp_ner(\"While bismuth compounds (Pepto-Bismol) decreased the number of bowel movements in those with travelers' diarrhea, they do not decrease the length of illness.[91] Anti-motility agents like loperamide are also effective at reducing the number of stools but not the duration of disease.[8] These agents should be used only if bloody diarrhea is not present.\")\n",
    "\n",
    "colors = {\"PATHOGEN\": \"#F67DE3\", \"MEDICINE\": \"#7DF6D9\", \"MEDICALCONDITION\":\"#a6e22d\"}\n",
    "options = {\"colors\": colors} \n",
    "\n",
    "spacy.displacy.render(doc, style=\"ent\", options= options, jupyter=True)"
   ]
  },
  {
   "cell_type": "code",
   "execution_count": null,
   "id": "de31e810-8bd3-4b72-96e8-4490889c816b",
   "metadata": {},
   "outputs": [],
   "source": [
    "cd\n"
   ]
  },
  {
   "cell_type": "code",
   "execution_count": 45,
   "id": "1d1a85cb",
   "metadata": {},
   "outputs": [
    {
     "name": "stdout",
     "output_type": "stream",
     "text": [
      "C:\\Users\\Administrator\\Desktop\n"
     ]
    }
   ],
   "source": [
    "cd Desktop"
   ]
  },
  {
   "cell_type": "code",
   "execution_count": null,
   "id": "5d430f98-8db3-4a8d-91ba-fc782ed85774",
   "metadata": {},
   "outputs": [],
   "source": [
    "cd THESIS"
   ]
  },
  {
   "cell_type": "code",
   "execution_count": null,
   "id": "022f9d18-8503-49d6-8bed-cee2c5317cdf",
   "metadata": {},
   "outputs": [
    {
     "name": "stdout",
     "output_type": "stream",
     "text": [
      " * Serving Flask app 'app'\n",
      " * Debug mode: off\n"
     ]
    },
    {
     "name": "stderr",
     "output_type": "stream",
     "text": [
      "WARNING: This is a development server. Do not use it in a production deployment. Use a production WSGI server instead.\n",
      " * Running on http://127.0.0.1:5000\n",
      "Press CTRL+C to quit\n",
      "127.0.0.1 - - [27/May/2025 02:35:00] \"GET / HTTP/1.1\" 200 -\n",
      "127.0.0.1 - - [27/May/2025 02:35:00] \"GET /favicon.ico HTTP/1.1\" 404 -\n",
      "127.0.0.1 - - [27/May/2025 02:35:30] \"POST /entity HTTP/1.1\" 200 -\n",
      "127.0.0.1 - - [27/May/2025 02:37:09] \"POST /entity HTTP/1.1\" 200 -\n",
      "127.0.0.1 - - [27/May/2025 02:38:25] \"POST /entity HTTP/1.1\" 200 -\n",
      "127.0.0.1 - - [27/May/2025 02:39:12] \"POST /entity HTTP/1.1\" 200 -\n",
      "127.0.0.1 - - [27/May/2025 02:39:15] \"POST /entity HTTP/1.1\" 200 -\n",
      "127.0.0.1 - - [27/May/2025 02:39:18] \"POST /entity HTTP/1.1\" 200 -\n",
      "127.0.0.1 - - [27/May/2025 02:39:54] \"POST /entity HTTP/1.1\" 200 -\n",
      "127.0.0.1 - - [27/May/2025 02:39:59] \"POST /entity HTTP/1.1\" 200 -\n",
      "127.0.0.1 - - [27/May/2025 02:40:23] \"POST /entity HTTP/1.1\" 200 -\n",
      "127.0.0.1 - - [27/May/2025 02:40:59] \"POST /entity HTTP/1.1\" 200 -\n",
      "127.0.0.1 - - [27/May/2025 02:41:27] \"POST /entity HTTP/1.1\" 200 -\n",
      "127.0.0.1 - - [27/May/2025 02:41:55] \"POST /entity HTTP/1.1\" 200 -\n",
      "127.0.0.1 - - [27/May/2025 02:42:47] \"POST /entity HTTP/1.1\" 200 -\n",
      "127.0.0.1 - - [27/May/2025 02:42:49] \"POST /entity HTTP/1.1\" 200 -\n",
      "127.0.0.1 - - [27/May/2025 02:42:54] \"POST /entity HTTP/1.1\" 200 -\n",
      "127.0.0.1 - - [27/May/2025 02:43:10] \"POST /entity HTTP/1.1\" 200 -\n",
      "127.0.0.1 - - [27/May/2025 02:43:16] \"POST /entity HTTP/1.1\" 200 -\n",
      "127.0.0.1 - - [27/May/2025 02:43:48] \"POST /entity HTTP/1.1\" 200 -\n",
      "127.0.0.1 - - [27/May/2025 02:44:32] \"POST /entity HTTP/1.1\" 200 -\n",
      "127.0.0.1 - - [27/May/2025 02:44:39] \"POST /entity HTTP/1.1\" 200 -\n",
      "127.0.0.1 - - [27/May/2025 02:48:29] \"POST /entity HTTP/1.1\" 200 -\n",
      "127.0.0.1 - - [27/May/2025 02:49:29] \"POST /entity HTTP/1.1\" 200 -\n",
      "127.0.0.1 - - [27/May/2025 02:49:38] \"POST /entity HTTP/1.1\" 200 -\n",
      "127.0.0.1 - - [27/May/2025 02:50:29] \"POST /entity HTTP/1.1\" 200 -\n",
      "127.0.0.1 - - [27/May/2025 02:51:42] \"POST /entity HTTP/1.1\" 200 -\n",
      "127.0.0.1 - - [27/May/2025 02:53:28] \"POST /entity HTTP/1.1\" 200 -\n",
      "127.0.0.1 - - [27/May/2025 02:53:49] \"POST /entity HTTP/1.1\" 200 -\n",
      "127.0.0.1 - - [27/May/2025 02:54:30] \"POST /entity HTTP/1.1\" 200 -\n",
      "127.0.0.1 - - [27/May/2025 02:56:12] \"POST /entity HTTP/1.1\" 200 -\n",
      "127.0.0.1 - - [27/May/2025 02:57:04] \"POST /entity HTTP/1.1\" 200 -\n",
      "127.0.0.1 - - [27/May/2025 02:58:14] \"POST /entity HTTP/1.1\" 200 -\n",
      "127.0.0.1 - - [27/May/2025 02:58:49] \"POST /entity HTTP/1.1\" 200 -\n",
      "127.0.0.1 - - [27/May/2025 02:58:56] \"POST /entity HTTP/1.1\" 200 -\n",
      "127.0.0.1 - - [27/May/2025 02:59:51] \"POST /entity HTTP/1.1\" 200 -\n",
      "127.0.0.1 - - [27/May/2025 03:00:32] \"POST /entity HTTP/1.1\" 200 -\n",
      "127.0.0.1 - - [27/May/2025 03:00:49] \"POST /entity HTTP/1.1\" 200 -\n",
      "127.0.0.1 - - [27/May/2025 03:01:04] \"POST /entity HTTP/1.1\" 200 -\n",
      "127.0.0.1 - - [27/May/2025 03:01:09] \"POST /entity HTTP/1.1\" 200 -\n",
      "127.0.0.1 - - [27/May/2025 03:01:17] \"POST /entity HTTP/1.1\" 200 -\n",
      "127.0.0.1 - - [27/May/2025 03:02:04] \"POST /entity HTTP/1.1\" 200 -\n",
      "127.0.0.1 - - [27/May/2025 03:02:09] \"POST /entity HTTP/1.1\" 200 -\n",
      "127.0.0.1 - - [27/May/2025 03:02:12] \"POST /entity HTTP/1.1\" 200 -\n",
      "127.0.0.1 - - [27/May/2025 03:02:37] \"POST /entity HTTP/1.1\" 200 -\n",
      "127.0.0.1 - - [27/May/2025 03:03:45] \"POST /entity HTTP/1.1\" 200 -\n",
      "127.0.0.1 - - [27/May/2025 03:04:22] \"POST /entity HTTP/1.1\" 200 -\n",
      "127.0.0.1 - - [27/May/2025 03:04:41] \"POST /entity HTTP/1.1\" 200 -\n",
      "127.0.0.1 - - [27/May/2025 03:04:50] \"POST /entity HTTP/1.1\" 200 -\n",
      "127.0.0.1 - - [27/May/2025 03:05:18] \"POST /entity HTTP/1.1\" 200 -\n",
      "127.0.0.1 - - [27/May/2025 03:05:33] \"POST /entity HTTP/1.1\" 200 -\n",
      "127.0.0.1 - - [27/May/2025 03:06:12] \"POST /entity HTTP/1.1\" 200 -\n",
      "127.0.0.1 - - [27/May/2025 03:06:31] \"POST /entity HTTP/1.1\" 200 -\n",
      "127.0.0.1 - - [27/May/2025 03:06:48] \"POST /entity HTTP/1.1\" 200 -\n",
      "127.0.0.1 - - [27/May/2025 03:06:57] \"POST /entity HTTP/1.1\" 200 -\n",
      "127.0.0.1 - - [27/May/2025 03:07:04] \"POST /entity HTTP/1.1\" 200 -\n",
      "127.0.0.1 - - [27/May/2025 03:07:07] \"POST /entity HTTP/1.1\" 200 -\n",
      "127.0.0.1 - - [27/May/2025 03:08:28] \"POST /entity HTTP/1.1\" 200 -\n",
      "127.0.0.1 - - [27/May/2025 03:08:44] \"POST /entity HTTP/1.1\" 200 -\n",
      "127.0.0.1 - - [27/May/2025 03:09:33] \"POST /entity HTTP/1.1\" 200 -\n",
      "127.0.0.1 - - [27/May/2025 03:09:37] \"POST /entity HTTP/1.1\" 200 -\n",
      "127.0.0.1 - - [27/May/2025 03:09:40] \"POST /entity HTTP/1.1\" 200 -\n",
      "127.0.0.1 - - [27/May/2025 03:09:43] \"POST /entity HTTP/1.1\" 200 -\n",
      "127.0.0.1 - - [27/May/2025 03:09:45] \"POST /entity HTTP/1.1\" 200 -\n",
      "127.0.0.1 - - [27/May/2025 03:09:48] \"POST /entity HTTP/1.1\" 200 -\n",
      "127.0.0.1 - - [27/May/2025 03:09:51] \"POST /entity HTTP/1.1\" 200 -\n",
      "127.0.0.1 - - [27/May/2025 03:09:54] \"POST /entity HTTP/1.1\" 200 -\n",
      "127.0.0.1 - - [27/May/2025 03:09:57] \"POST /entity HTTP/1.1\" 200 -\n",
      "127.0.0.1 - - [27/May/2025 03:09:59] \"POST /entity HTTP/1.1\" 200 -\n",
      "127.0.0.1 - - [27/May/2025 03:10:03] \"POST /entity HTTP/1.1\" 200 -\n",
      "127.0.0.1 - - [27/May/2025 03:10:04] \"POST /entity HTTP/1.1\" 200 -\n"
     ]
    }
   ],
   "source": [
    "%run app.py"
   ]
  }
 ],
 "metadata": {
  "kernelspec": {
   "display_name": "Python [conda env:base] *",
   "language": "python",
   "name": "conda-base-py"
  },
  "language_info": {
   "codemirror_mode": {
    "name": "ipython",
    "version": 3
   },
   "file_extension": ".py",
   "mimetype": "text/x-python",
   "name": "python",
   "nbconvert_exporter": "python",
   "pygments_lexer": "ipython3",
   "version": "3.12.7"
  }
 },
 "nbformat": 4,
 "nbformat_minor": 5
}
